{
  "nbformat": 4,
  "nbformat_minor": 0,
  "metadata": {
    "colab": {
      "provenance": [],
      "authorship_tag": "ABX9TyNfXYsobsEI/NN5a+qvi0jI",
      "include_colab_link": true
    },
    "kernelspec": {
      "name": "python3",
      "display_name": "Python 3"
    },
    "language_info": {
      "name": "python"
    }
  },
  "cells": [
    {
      "cell_type": "markdown",
      "metadata": {
        "id": "view-in-github",
        "colab_type": "text"
      },
      "source": [
        "<a href=\"https://colab.research.google.com/github/ShaikSony-07/data-analytics-project/blob/main/Doctor_visit_analysis_using_python.ipynb\" target=\"_parent\"><img src=\"https://colab.research.google.com/assets/colab-badge.svg\" alt=\"Open In Colab\"/></a>"
      ]
    },
    {
      "cell_type": "markdown",
      "source": [
        "**Doctor visit analysis using python**"
      ],
      "metadata": {
        "id": "FPtr5ODzXSBL"
      }
    },
    {
      "cell_type": "code",
      "source": [
        "import pandas as pd"
      ],
      "metadata": {
        "id": "yu7CVdLNXb3b"
      },
      "execution_count": 1,
      "outputs": []
    },
    {
      "cell_type": "code",
      "source": [
        "import numpy as np"
      ],
      "metadata": {
        "id": "xXZ9n239XjRu"
      },
      "execution_count": 3,
      "outputs": []
    },
    {
      "cell_type": "code",
      "source": [
        "import matplotlib.pyplot as plt"
      ],
      "metadata": {
        "id": "YYusPCJrXm9l"
      },
      "execution_count": 4,
      "outputs": []
    },
    {
      "cell_type": "code",
      "source": [
        "import seaborn as sns"
      ],
      "metadata": {
        "id": "15er1cxaXykS"
      },
      "execution_count": 5,
      "outputs": []
    },
    {
      "cell_type": "markdown",
      "source": [
        "Load the data from a csv **file**"
      ],
      "metadata": {
        "id": "VwD5Pkr_X3gD"
      }
    },
    {
      "cell_type": "code",
      "source": [
        "df=pd.read_excel(r'/DoctorVisits (2).xlsx')"
      ],
      "metadata": {
        "id": "lD03M2FPYZqI"
      },
      "execution_count": 2,
      "outputs": []
    },
    {
      "cell_type": "code",
      "source": [
        "df.head()"
      ],
      "metadata": {
        "colab": {
          "base_uri": "https://localhost:8080/",
          "height": 206
        },
        "id": "pNsnOpeYeUmf",
        "outputId": "b7baaf9a-dae1-479a-eec8-8d78cd7f5583"
      },
      "execution_count": 13,
      "outputs": [
        {
          "output_type": "execute_result",
          "data": {
            "text/plain": [
              "   Unnamed: 0  visits  gender   age  income  illness  reduced  health private  \\\n",
              "0           1       1  female  0.19    0.55        1        4       1     yes   \n",
              "1           2       1  female  0.19    0.45        1        2       1     yes   \n",
              "2           3       1    male  0.19    0.90        3        0       0      no   \n",
              "3           4       1    male  0.19    0.15        1        0       0      no   \n",
              "4           5       1    male  0.19    0.45        2        5       1      no   \n",
              "\n",
              "  freepoor freerepat nchronic lchronic  \n",
              "0       no        no       no       no  \n",
              "1       no        no       no       no  \n",
              "2       no        no       no       no  \n",
              "3       no        no       no       no  \n",
              "4       no        no      yes       no  "
            ],
            "text/html": [
              "\n",
              "  <div id=\"df-1fdad751-7ee5-4d68-a0cd-c7907bef82c3\">\n",
              "    <div class=\"colab-df-container\">\n",
              "      <div>\n",
              "<style scoped>\n",
              "    .dataframe tbody tr th:only-of-type {\n",
              "        vertical-align: middle;\n",
              "    }\n",
              "\n",
              "    .dataframe tbody tr th {\n",
              "        vertical-align: top;\n",
              "    }\n",
              "\n",
              "    .dataframe thead th {\n",
              "        text-align: right;\n",
              "    }\n",
              "</style>\n",
              "<table border=\"1\" class=\"dataframe\">\n",
              "  <thead>\n",
              "    <tr style=\"text-align: right;\">\n",
              "      <th></th>\n",
              "      <th>Unnamed: 0</th>\n",
              "      <th>visits</th>\n",
              "      <th>gender</th>\n",
              "      <th>age</th>\n",
              "      <th>income</th>\n",
              "      <th>illness</th>\n",
              "      <th>reduced</th>\n",
              "      <th>health</th>\n",
              "      <th>private</th>\n",
              "      <th>freepoor</th>\n",
              "      <th>freerepat</th>\n",
              "      <th>nchronic</th>\n",
              "      <th>lchronic</th>\n",
              "    </tr>\n",
              "  </thead>\n",
              "  <tbody>\n",
              "    <tr>\n",
              "      <th>0</th>\n",
              "      <td>1</td>\n",
              "      <td>1</td>\n",
              "      <td>female</td>\n",
              "      <td>0.19</td>\n",
              "      <td>0.55</td>\n",
              "      <td>1</td>\n",
              "      <td>4</td>\n",
              "      <td>1</td>\n",
              "      <td>yes</td>\n",
              "      <td>no</td>\n",
              "      <td>no</td>\n",
              "      <td>no</td>\n",
              "      <td>no</td>\n",
              "    </tr>\n",
              "    <tr>\n",
              "      <th>1</th>\n",
              "      <td>2</td>\n",
              "      <td>1</td>\n",
              "      <td>female</td>\n",
              "      <td>0.19</td>\n",
              "      <td>0.45</td>\n",
              "      <td>1</td>\n",
              "      <td>2</td>\n",
              "      <td>1</td>\n",
              "      <td>yes</td>\n",
              "      <td>no</td>\n",
              "      <td>no</td>\n",
              "      <td>no</td>\n",
              "      <td>no</td>\n",
              "    </tr>\n",
              "    <tr>\n",
              "      <th>2</th>\n",
              "      <td>3</td>\n",
              "      <td>1</td>\n",
              "      <td>male</td>\n",
              "      <td>0.19</td>\n",
              "      <td>0.90</td>\n",
              "      <td>3</td>\n",
              "      <td>0</td>\n",
              "      <td>0</td>\n",
              "      <td>no</td>\n",
              "      <td>no</td>\n",
              "      <td>no</td>\n",
              "      <td>no</td>\n",
              "      <td>no</td>\n",
              "    </tr>\n",
              "    <tr>\n",
              "      <th>3</th>\n",
              "      <td>4</td>\n",
              "      <td>1</td>\n",
              "      <td>male</td>\n",
              "      <td>0.19</td>\n",
              "      <td>0.15</td>\n",
              "      <td>1</td>\n",
              "      <td>0</td>\n",
              "      <td>0</td>\n",
              "      <td>no</td>\n",
              "      <td>no</td>\n",
              "      <td>no</td>\n",
              "      <td>no</td>\n",
              "      <td>no</td>\n",
              "    </tr>\n",
              "    <tr>\n",
              "      <th>4</th>\n",
              "      <td>5</td>\n",
              "      <td>1</td>\n",
              "      <td>male</td>\n",
              "      <td>0.19</td>\n",
              "      <td>0.45</td>\n",
              "      <td>2</td>\n",
              "      <td>5</td>\n",
              "      <td>1</td>\n",
              "      <td>no</td>\n",
              "      <td>no</td>\n",
              "      <td>no</td>\n",
              "      <td>yes</td>\n",
              "      <td>no</td>\n",
              "    </tr>\n",
              "  </tbody>\n",
              "</table>\n",
              "</div>\n",
              "      <button class=\"colab-df-convert\" onclick=\"convertToInteractive('df-1fdad751-7ee5-4d68-a0cd-c7907bef82c3')\"\n",
              "              title=\"Convert this dataframe to an interactive table.\"\n",
              "              style=\"display:none;\">\n",
              "        \n",
              "  <svg xmlns=\"http://www.w3.org/2000/svg\" height=\"24px\"viewBox=\"0 0 24 24\"\n",
              "       width=\"24px\">\n",
              "    <path d=\"M0 0h24v24H0V0z\" fill=\"none\"/>\n",
              "    <path d=\"M18.56 5.44l.94 2.06.94-2.06 2.06-.94-2.06-.94-.94-2.06-.94 2.06-2.06.94zm-11 1L8.5 8.5l.94-2.06 2.06-.94-2.06-.94L8.5 2.5l-.94 2.06-2.06.94zm10 10l.94 2.06.94-2.06 2.06-.94-2.06-.94-.94-2.06-.94 2.06-2.06.94z\"/><path d=\"M17.41 7.96l-1.37-1.37c-.4-.4-.92-.59-1.43-.59-.52 0-1.04.2-1.43.59L10.3 9.45l-7.72 7.72c-.78.78-.78 2.05 0 2.83L4 21.41c.39.39.9.59 1.41.59.51 0 1.02-.2 1.41-.59l7.78-7.78 2.81-2.81c.8-.78.8-2.07 0-2.86zM5.41 20L4 18.59l7.72-7.72 1.47 1.35L5.41 20z\"/>\n",
              "  </svg>\n",
              "      </button>\n",
              "      \n",
              "  <style>\n",
              "    .colab-df-container {\n",
              "      display:flex;\n",
              "      flex-wrap:wrap;\n",
              "      gap: 12px;\n",
              "    }\n",
              "\n",
              "    .colab-df-convert {\n",
              "      background-color: #E8F0FE;\n",
              "      border: none;\n",
              "      border-radius: 50%;\n",
              "      cursor: pointer;\n",
              "      display: none;\n",
              "      fill: #1967D2;\n",
              "      height: 32px;\n",
              "      padding: 0 0 0 0;\n",
              "      width: 32px;\n",
              "    }\n",
              "\n",
              "    .colab-df-convert:hover {\n",
              "      background-color: #E2EBFA;\n",
              "      box-shadow: 0px 1px 2px rgba(60, 64, 67, 0.3), 0px 1px 3px 1px rgba(60, 64, 67, 0.15);\n",
              "      fill: #174EA6;\n",
              "    }\n",
              "\n",
              "    [theme=dark] .colab-df-convert {\n",
              "      background-color: #3B4455;\n",
              "      fill: #D2E3FC;\n",
              "    }\n",
              "\n",
              "    [theme=dark] .colab-df-convert:hover {\n",
              "      background-color: #434B5C;\n",
              "      box-shadow: 0px 1px 3px 1px rgba(0, 0, 0, 0.15);\n",
              "      filter: drop-shadow(0px 1px 2px rgba(0, 0, 0, 0.3));\n",
              "      fill: #FFFFFF;\n",
              "    }\n",
              "  </style>\n",
              "\n",
              "      <script>\n",
              "        const buttonEl =\n",
              "          document.querySelector('#df-1fdad751-7ee5-4d68-a0cd-c7907bef82c3 button.colab-df-convert');\n",
              "        buttonEl.style.display =\n",
              "          google.colab.kernel.accessAllowed ? 'block' : 'none';\n",
              "\n",
              "        async function convertToInteractive(key) {\n",
              "          const element = document.querySelector('#df-1fdad751-7ee5-4d68-a0cd-c7907bef82c3');\n",
              "          const dataTable =\n",
              "            await google.colab.kernel.invokeFunction('convertToInteractive',\n",
              "                                                     [key], {});\n",
              "          if (!dataTable) return;\n",
              "\n",
              "          const docLinkHtml = 'Like what you see? Visit the ' +\n",
              "            '<a target=\"_blank\" href=https://colab.research.google.com/notebooks/data_table.ipynb>data table notebook</a>'\n",
              "            + ' to learn more about interactive tables.';\n",
              "          element.innerHTML = '';\n",
              "          dataTable['output_type'] = 'display_data';\n",
              "          await google.colab.output.renderOutput(dataTable, element);\n",
              "          const docLink = document.createElement('div');\n",
              "          docLink.innerHTML = docLinkHtml;\n",
              "          element.appendChild(docLink);\n",
              "        }\n",
              "      </script>\n",
              "    </div>\n",
              "  </div>\n",
              "  "
            ]
          },
          "metadata": {},
          "execution_count": 13
        }
      ]
    },
    {
      "cell_type": "code",
      "source": [
        "df.info()"
      ],
      "metadata": {
        "colab": {
          "base_uri": "https://localhost:8080/"
        },
        "id": "p63oILb-ecrx",
        "outputId": "9ef7e5fb-8500-4174-a1eb-aca1843252a2"
      },
      "execution_count": 14,
      "outputs": [
        {
          "output_type": "stream",
          "name": "stdout",
          "text": [
            "<class 'pandas.core.frame.DataFrame'>\n",
            "RangeIndex: 5190 entries, 0 to 5189\n",
            "Data columns (total 13 columns):\n",
            " #   Column      Non-Null Count  Dtype  \n",
            "---  ------      --------------  -----  \n",
            " 0   Unnamed: 0  5190 non-null   int64  \n",
            " 1   visits      5190 non-null   int64  \n",
            " 2   gender      5190 non-null   object \n",
            " 3   age         5190 non-null   float64\n",
            " 4   income      5190 non-null   float64\n",
            " 5   illness     5190 non-null   int64  \n",
            " 6   reduced     5190 non-null   int64  \n",
            " 7   health      5190 non-null   int64  \n",
            " 8   private     5190 non-null   object \n",
            " 9   freepoor    5190 non-null   object \n",
            " 10  freerepat   5190 non-null   object \n",
            " 11  nchronic    5190 non-null   object \n",
            " 12  lchronic    5190 non-null   object \n",
            "dtypes: float64(2), int64(5), object(6)\n",
            "memory usage: 527.2+ KB\n"
          ]
        }
      ]
    },
    {
      "cell_type": "code",
      "source": [
        "df.describe()"
      ],
      "metadata": {
        "colab": {
          "base_uri": "https://localhost:8080/",
          "height": 300
        },
        "id": "LO5rLWJNe1Wy",
        "outputId": "0e3ba39f-385d-46fa-9ef3-838bb008fd1d"
      },
      "execution_count": 15,
      "outputs": [
        {
          "output_type": "execute_result",
          "data": {
            "text/plain": [
              "        Unnamed: 0       visits          age       income      illness  \\\n",
              "count  5190.000000  5190.000000  5190.000000  5190.000000  5190.000000   \n",
              "mean   2595.500000     0.301734     0.406385     0.583160     1.431985   \n",
              "std    1498.368279     0.798134     0.204782     0.368907     1.384152   \n",
              "min       1.000000     0.000000     0.190000     0.000000     0.000000   \n",
              "25%    1298.250000     0.000000     0.220000     0.250000     0.000000   \n",
              "50%    2595.500000     0.000000     0.320000     0.550000     1.000000   \n",
              "75%    3892.750000     0.000000     0.620000     0.900000     2.000000   \n",
              "max    5190.000000     9.000000     0.720000     1.500000     5.000000   \n",
              "\n",
              "           reduced       health  \n",
              "count  5190.000000  5190.000000  \n",
              "mean      0.861850     1.217534  \n",
              "std       2.887628     2.124266  \n",
              "min       0.000000     0.000000  \n",
              "25%       0.000000     0.000000  \n",
              "50%       0.000000     0.000000  \n",
              "75%       0.000000     2.000000  \n",
              "max      14.000000    12.000000  "
            ],
            "text/html": [
              "\n",
              "  <div id=\"df-ca6442f9-8e65-4d91-b1fe-e19ca745116b\">\n",
              "    <div class=\"colab-df-container\">\n",
              "      <div>\n",
              "<style scoped>\n",
              "    .dataframe tbody tr th:only-of-type {\n",
              "        vertical-align: middle;\n",
              "    }\n",
              "\n",
              "    .dataframe tbody tr th {\n",
              "        vertical-align: top;\n",
              "    }\n",
              "\n",
              "    .dataframe thead th {\n",
              "        text-align: right;\n",
              "    }\n",
              "</style>\n",
              "<table border=\"1\" class=\"dataframe\">\n",
              "  <thead>\n",
              "    <tr style=\"text-align: right;\">\n",
              "      <th></th>\n",
              "      <th>Unnamed: 0</th>\n",
              "      <th>visits</th>\n",
              "      <th>age</th>\n",
              "      <th>income</th>\n",
              "      <th>illness</th>\n",
              "      <th>reduced</th>\n",
              "      <th>health</th>\n",
              "    </tr>\n",
              "  </thead>\n",
              "  <tbody>\n",
              "    <tr>\n",
              "      <th>count</th>\n",
              "      <td>5190.000000</td>\n",
              "      <td>5190.000000</td>\n",
              "      <td>5190.000000</td>\n",
              "      <td>5190.000000</td>\n",
              "      <td>5190.000000</td>\n",
              "      <td>5190.000000</td>\n",
              "      <td>5190.000000</td>\n",
              "    </tr>\n",
              "    <tr>\n",
              "      <th>mean</th>\n",
              "      <td>2595.500000</td>\n",
              "      <td>0.301734</td>\n",
              "      <td>0.406385</td>\n",
              "      <td>0.583160</td>\n",
              "      <td>1.431985</td>\n",
              "      <td>0.861850</td>\n",
              "      <td>1.217534</td>\n",
              "    </tr>\n",
              "    <tr>\n",
              "      <th>std</th>\n",
              "      <td>1498.368279</td>\n",
              "      <td>0.798134</td>\n",
              "      <td>0.204782</td>\n",
              "      <td>0.368907</td>\n",
              "      <td>1.384152</td>\n",
              "      <td>2.887628</td>\n",
              "      <td>2.124266</td>\n",
              "    </tr>\n",
              "    <tr>\n",
              "      <th>min</th>\n",
              "      <td>1.000000</td>\n",
              "      <td>0.000000</td>\n",
              "      <td>0.190000</td>\n",
              "      <td>0.000000</td>\n",
              "      <td>0.000000</td>\n",
              "      <td>0.000000</td>\n",
              "      <td>0.000000</td>\n",
              "    </tr>\n",
              "    <tr>\n",
              "      <th>25%</th>\n",
              "      <td>1298.250000</td>\n",
              "      <td>0.000000</td>\n",
              "      <td>0.220000</td>\n",
              "      <td>0.250000</td>\n",
              "      <td>0.000000</td>\n",
              "      <td>0.000000</td>\n",
              "      <td>0.000000</td>\n",
              "    </tr>\n",
              "    <tr>\n",
              "      <th>50%</th>\n",
              "      <td>2595.500000</td>\n",
              "      <td>0.000000</td>\n",
              "      <td>0.320000</td>\n",
              "      <td>0.550000</td>\n",
              "      <td>1.000000</td>\n",
              "      <td>0.000000</td>\n",
              "      <td>0.000000</td>\n",
              "    </tr>\n",
              "    <tr>\n",
              "      <th>75%</th>\n",
              "      <td>3892.750000</td>\n",
              "      <td>0.000000</td>\n",
              "      <td>0.620000</td>\n",
              "      <td>0.900000</td>\n",
              "      <td>2.000000</td>\n",
              "      <td>0.000000</td>\n",
              "      <td>2.000000</td>\n",
              "    </tr>\n",
              "    <tr>\n",
              "      <th>max</th>\n",
              "      <td>5190.000000</td>\n",
              "      <td>9.000000</td>\n",
              "      <td>0.720000</td>\n",
              "      <td>1.500000</td>\n",
              "      <td>5.000000</td>\n",
              "      <td>14.000000</td>\n",
              "      <td>12.000000</td>\n",
              "    </tr>\n",
              "  </tbody>\n",
              "</table>\n",
              "</div>\n",
              "      <button class=\"colab-df-convert\" onclick=\"convertToInteractive('df-ca6442f9-8e65-4d91-b1fe-e19ca745116b')\"\n",
              "              title=\"Convert this dataframe to an interactive table.\"\n",
              "              style=\"display:none;\">\n",
              "        \n",
              "  <svg xmlns=\"http://www.w3.org/2000/svg\" height=\"24px\"viewBox=\"0 0 24 24\"\n",
              "       width=\"24px\">\n",
              "    <path d=\"M0 0h24v24H0V0z\" fill=\"none\"/>\n",
              "    <path d=\"M18.56 5.44l.94 2.06.94-2.06 2.06-.94-2.06-.94-.94-2.06-.94 2.06-2.06.94zm-11 1L8.5 8.5l.94-2.06 2.06-.94-2.06-.94L8.5 2.5l-.94 2.06-2.06.94zm10 10l.94 2.06.94-2.06 2.06-.94-2.06-.94-.94-2.06-.94 2.06-2.06.94z\"/><path d=\"M17.41 7.96l-1.37-1.37c-.4-.4-.92-.59-1.43-.59-.52 0-1.04.2-1.43.59L10.3 9.45l-7.72 7.72c-.78.78-.78 2.05 0 2.83L4 21.41c.39.39.9.59 1.41.59.51 0 1.02-.2 1.41-.59l7.78-7.78 2.81-2.81c.8-.78.8-2.07 0-2.86zM5.41 20L4 18.59l7.72-7.72 1.47 1.35L5.41 20z\"/>\n",
              "  </svg>\n",
              "      </button>\n",
              "      \n",
              "  <style>\n",
              "    .colab-df-container {\n",
              "      display:flex;\n",
              "      flex-wrap:wrap;\n",
              "      gap: 12px;\n",
              "    }\n",
              "\n",
              "    .colab-df-convert {\n",
              "      background-color: #E8F0FE;\n",
              "      border: none;\n",
              "      border-radius: 50%;\n",
              "      cursor: pointer;\n",
              "      display: none;\n",
              "      fill: #1967D2;\n",
              "      height: 32px;\n",
              "      padding: 0 0 0 0;\n",
              "      width: 32px;\n",
              "    }\n",
              "\n",
              "    .colab-df-convert:hover {\n",
              "      background-color: #E2EBFA;\n",
              "      box-shadow: 0px 1px 2px rgba(60, 64, 67, 0.3), 0px 1px 3px 1px rgba(60, 64, 67, 0.15);\n",
              "      fill: #174EA6;\n",
              "    }\n",
              "\n",
              "    [theme=dark] .colab-df-convert {\n",
              "      background-color: #3B4455;\n",
              "      fill: #D2E3FC;\n",
              "    }\n",
              "\n",
              "    [theme=dark] .colab-df-convert:hover {\n",
              "      background-color: #434B5C;\n",
              "      box-shadow: 0px 1px 3px 1px rgba(0, 0, 0, 0.15);\n",
              "      filter: drop-shadow(0px 1px 2px rgba(0, 0, 0, 0.3));\n",
              "      fill: #FFFFFF;\n",
              "    }\n",
              "  </style>\n",
              "\n",
              "      <script>\n",
              "        const buttonEl =\n",
              "          document.querySelector('#df-ca6442f9-8e65-4d91-b1fe-e19ca745116b button.colab-df-convert');\n",
              "        buttonEl.style.display =\n",
              "          google.colab.kernel.accessAllowed ? 'block' : 'none';\n",
              "\n",
              "        async function convertToInteractive(key) {\n",
              "          const element = document.querySelector('#df-ca6442f9-8e65-4d91-b1fe-e19ca745116b');\n",
              "          const dataTable =\n",
              "            await google.colab.kernel.invokeFunction('convertToInteractive',\n",
              "                                                     [key], {});\n",
              "          if (!dataTable) return;\n",
              "\n",
              "          const docLinkHtml = 'Like what you see? Visit the ' +\n",
              "            '<a target=\"_blank\" href=https://colab.research.google.com/notebooks/data_table.ipynb>data table notebook</a>'\n",
              "            + ' to learn more about interactive tables.';\n",
              "          element.innerHTML = '';\n",
              "          dataTable['output_type'] = 'display_data';\n",
              "          await google.colab.output.renderOutput(dataTable, element);\n",
              "          const docLink = document.createElement('div');\n",
              "          docLink.innerHTML = docLinkHtml;\n",
              "          element.appendChild(docLink);\n",
              "        }\n",
              "      </script>\n",
              "    </div>\n",
              "  </div>\n",
              "  "
            ]
          },
          "metadata": {},
          "execution_count": 15
        }
      ]
    },
    {
      "cell_type": "code",
      "source": [
        "df[\"income\"]=df[\"income\"]*10000"
      ],
      "metadata": {
        "id": "BGolAs7MfOjj"
      },
      "execution_count": 17,
      "outputs": []
    },
    {
      "cell_type": "code",
      "source": [
        "df[\"gender\"].value_counts()"
      ],
      "metadata": {
        "colab": {
          "base_uri": "https://localhost:8080/"
        },
        "id": "izlZEywnga2X",
        "outputId": "f01f9b9b-de7d-4a06-c743-19ada8d6a59a"
      },
      "execution_count": 18,
      "outputs": [
        {
          "output_type": "execute_result",
          "data": {
            "text/plain": [
              "female    2702\n",
              "male      2488\n",
              "Name: gender, dtype: int64"
            ]
          },
          "metadata": {},
          "execution_count": 18
        }
      ]
    },
    {
      "cell_type": "code",
      "source": [],
      "metadata": {
        "id": "tI90WhRthlhT"
      },
      "execution_count": null,
      "outputs": []
    },
    {
      "cell_type": "markdown",
      "source": [
        "**clean up the data**"
      ],
      "metadata": {
        "id": "Vb04KGe0ZxZT"
      }
    },
    {
      "cell_type": "markdown",
      "source": [
        "**Drop the 'Unnamed: 0' column\n",
        "**"
      ],
      "metadata": {
        "id": "h_7DLywejoBz"
      }
    },
    {
      "cell_type": "code",
      "source": [
        "df.drop('Unnamed: 0', axis=1, inplace=True)\n"
      ],
      "metadata": {
        "id": "dHM0I5lAjiCC"
      },
      "execution_count": 20,
      "outputs": []
    },
    {
      "cell_type": "markdown",
      "source": [
        "**# Convert the 'gender' column to lowercase**"
      ],
      "metadata": {
        "id": "stgFlIvHjxqo"
      }
    },
    {
      "cell_type": "code",
      "source": [
        "df['gender'] = df['gender'].str.lower()\n"
      ],
      "metadata": {
        "id": "gk8kx48Rj2C0"
      },
      "execution_count": 21,
      "outputs": []
    },
    {
      "cell_type": "markdown",
      "source": [
        "**Convert the 'age' column to integer\n",
        "**"
      ],
      "metadata": {
        "id": "vw23UxhBj6Au"
      }
    },
    {
      "cell_type": "code",
      "source": [
        "df['age'] = df['age'].astype(int)\n"
      ],
      "metadata": {
        "id": "ELaozNASj-Ql"
      },
      "execution_count": 22,
      "outputs": []
    },
    {
      "cell_type": "markdown",
      "source": [
        "**Convert the 'income' column to integer\n",
        "**"
      ],
      "metadata": {
        "id": "199ZZO2QkLQi"
      }
    },
    {
      "cell_type": "code",
      "source": [
        "df['income'] = df['income'].astype(int)\n"
      ],
      "metadata": {
        "id": "HC2166sukP-v"
      },
      "execution_count": 23,
      "outputs": []
    },
    {
      "cell_type": "markdown",
      "source": [
        "**# Convert the 'private' column to boolean\n",
        "**"
      ],
      "metadata": {
        "id": "NdO-_a8kkUNe"
      }
    },
    {
      "cell_type": "code",
      "source": [
        "df['private'] = df['private'].map({'Yes': True, 'No': False})\n"
      ],
      "metadata": {
        "id": "4oDX0csQkYOE"
      },
      "execution_count": 24,
      "outputs": []
    },
    {
      "cell_type": "markdown",
      "source": [
        "**Convert the 'freepoor' column to boolean\n",
        "**"
      ],
      "metadata": {
        "id": "5oOtB_DHkb0J"
      }
    },
    {
      "cell_type": "code",
      "source": [
        "df['freepoor'] = df['freepoor'].map({'Yes': True, 'No': False})\n"
      ],
      "metadata": {
        "id": "QjrN9EdFkhqX"
      },
      "execution_count": 25,
      "outputs": []
    },
    {
      "cell_type": "code",
      "source": [
        "# Convert the 'freerepat' column to boolean\n",
        "df['freerepat'] = df['freerepat'].map({'Yes': True, 'No': False})"
      ],
      "metadata": {
        "id": "ujPThq_Jkk9D"
      },
      "execution_count": 26,
      "outputs": []
    },
    {
      "cell_type": "code",
      "source": [
        "# Convert the 'lchronic' column to integer\n",
        "df['lchronic'] = df['lchronic'].map({'Yes': True, 'No': False})\n"
      ],
      "metadata": {
        "id": "eq_95onUk2Al"
      },
      "execution_count": 29,
      "outputs": []
    },
    {
      "cell_type": "code",
      "source": [
        "# Convert the 'nchronic' column to integer\n",
        "df['nchronic'] = df['nchronic'].map({'Yes': True, 'No': False})\n",
        "\n",
        "print(df.head())"
      ],
      "metadata": {
        "colab": {
          "base_uri": "https://localhost:8080/"
        },
        "id": "Wgz285J8lH3D",
        "outputId": "0a85b337-2e08-4561-96cc-8634f4990136"
      },
      "execution_count": 31,
      "outputs": [
        {
          "output_type": "stream",
          "name": "stdout",
          "text": [
            "   visits  gender  age  income  illness  reduced  health private freepoor  \\\n",
            "0       1  female    0    5500        1        4       1     NaN      NaN   \n",
            "1       1  female    0    4500        1        2       1     NaN      NaN   \n",
            "2       1    male    0    9000        3        0       0     NaN      NaN   \n",
            "3       1    male    0    1500        1        0       0     NaN      NaN   \n",
            "4       1    male    0    4500        2        5       1     NaN      NaN   \n",
            "\n",
            "  freerepat nchronic lchronic  \n",
            "0       NaN      NaN      NaN  \n",
            "1       NaN      NaN      NaN  \n",
            "2       NaN      NaN      NaN  \n",
            "3       NaN      NaN      NaN  \n",
            "4       NaN      NaN      NaN  \n"
          ]
        }
      ]
    },
    {
      "cell_type": "code",
      "source": [
        "import pandas as pd\n",
        "\n",
        "# Convert the DataFrame values to numeric types\n",
        "df = df.apply(pd.to_numeric, errors='coerce')\n",
        "\n",
        "# Filter the DataFrame based on the condition\n",
        "df = df[(df >= 0).all(1)]\n",
        "\n",
        "# Save the filtered DataFrame to a new Excel file\n",
        "df.to_csv('DoctorVisits (2).xlsx', index=False)"
      ],
      "metadata": {
        "id": "3AVtyhYjprm_"
      },
      "execution_count": 37,
      "outputs": []
    },
    {
      "cell_type": "markdown",
      "source": [
        "**Analyze the data**"
      ],
      "metadata": {
        "id": "A9wliIkqlvkj"
      }
    },
    {
      "cell_type": "code",
      "source": [
        "total_visits = len(df)\n",
        "total_illnesses = df['illness'].sum()\n",
        "total_reduced = df['reduced'].sum()\n",
        "total_health = df['health'].sum()\n",
        "total_private = df[df['private'] == True]['private'].count()\n",
        "total_freepoor = df[df['freepoor'] == True]['freepoor'].count()\n",
        "total_freerepat = df[df['freerepat'] == True]['freerepat'].count()\n",
        "average_age = df['age'].mean()\n",
        "average_income = df['income'].mean()\n",
        "\n",
        "print('Total Visits:', total_visits)\n",
        "print('Total Illnesses:', total_illnesses)\n",
        "print('Total Reduced Mobility:', total_reduced)\n",
        "print('Total Good Health:', total_health)\n",
        "print('Total Private Insurance:', total_private)\n",
        "print('Total Free Poor:', total_freepoor)\n",
        "print('Total Free Repatriated:', total_freerepat)\n",
        "print('Average Age:', average_age)\n",
        "print('Average Income:', average_income)"
      ],
      "metadata": {
        "colab": {
          "base_uri": "https://localhost:8080/"
        },
        "id": "lohNpjOTl3zw",
        "outputId": "376aa7ce-0c41-4553-c89e-b27df463ae60"
      },
      "execution_count": 32,
      "outputs": [
        {
          "output_type": "stream",
          "name": "stdout",
          "text": [
            "Total Visits: 5190\n",
            "Total Illnesses: 7432\n",
            "Total Reduced Mobility: 4473\n",
            "Total Good Health: 6319\n",
            "Total Private Insurance: 0\n",
            "Total Free Poor: 0\n",
            "Total Free Repatriated: 0\n",
            "Average Age: 0.0\n",
            "Average Income: 5831.599229287091\n"
          ]
        }
      ]
    },
    {
      "cell_type": "markdown",
      "source": [
        "**Visualisation of data**"
      ],
      "metadata": {
        "id": "OfL4lUHEmHCF"
      }
    },
    {
      "cell_type": "code",
      "source": [
        "df.hist(figsize=(15,15))"
      ],
      "metadata": {
        "colab": {
          "base_uri": "https://localhost:8080/",
          "height": 1000
        },
        "id": "51GlwX1d9Vgi",
        "outputId": "ee43cdf0-d972-47be-a5d7-a17f124295e2"
      },
      "execution_count": 62,
      "outputs": [
        {
          "output_type": "execute_result",
          "data": {
            "text/plain": [
              "array([[<Axes: title={'center': 'visits'}>,\n",
              "        <Axes: title={'center': 'age'}>],\n",
              "       [<Axes: title={'center': 'income'}>,\n",
              "        <Axes: title={'center': 'illness'}>],\n",
              "       [<Axes: title={'center': 'reduced health'}>,\n",
              "        <Axes: title={'center': 'private'}>]], dtype=object)"
            ]
          },
          "metadata": {},
          "execution_count": 62
        },
        {
          "output_type": "display_data",
          "data": {
            "text/plain": [
              "<Figure size 1500x1500 with 6 Axes>"
            ],
            "image/png": "[encoded data removed]"
          },
          "metadata": {}
        }
      ]
    },
    {
      "cell_type": "code",
      "source": [
        "import matplotlib.pyplot as plt\n",
        "\n",
        "total_visits=5190\n",
        "total_illnesses = 7432\n",
        "total_reduced = 4473\n",
        "total_health = 6319\n",
        "total_private = 0\n",
        "total_freepoor = 0\n",
        "total_freerepat = 0\n",
        "average_age = 0.0\n",
        "average_income = 5831.599229287091\n",
        "\n",
        "labels = ['total_visits','Total Illnesses', 'Total Reduced Mobility', 'Total Good Health', 'Total Private Insurance', 'Total Free Poor', 'Total Free Repatriated', 'Average Age', 'Average Income']\n",
        "values = [total_visits, total_illnesses, total_reduced, total_health, total_private, total_freepoor, total_freerepat, average_age, average_income]\n",
        "\n",
        "plt.bar(labels, values)\n",
        "plt.show()\n"
      ],
      "metadata": {
        "colab": {
          "base_uri": "https://localhost:8080/",
          "height": 430
        },
        "id": "XaNM6MfS8SgS",
        "outputId": "37615861-593e-4165-e311-ee3530a7a4f0"
      },
      "execution_count": 66,
      "outputs": [
        {
          "output_type": "display_data",
          "data": {
            "text/plain": [
              "<Figure size 640x480 with 1 Axes>"
            ],
            "image/png": "[encoded data removed]"
          },
          "metadata": {}
        }
      ]
    }
  ]
}